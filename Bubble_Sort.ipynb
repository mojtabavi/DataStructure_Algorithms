{
 "metadata": {
  "language_info": {
   "codemirror_mode": {
    "name": "ipython",
    "version": 3
   },
   "file_extension": ".py",
   "mimetype": "text/x-python",
   "name": "python",
   "nbconvert_exporter": "python",
   "pygments_lexer": "ipython3",
   "version": "3.9.1-final"
  },
  "orig_nbformat": 2,
  "kernelspec": {
   "name": "python3",
   "display_name": "Python 3.9.1 64-bit",
   "metadata": {
    "interpreter": {
     "hash": "767d51c1340bd893661ea55ea3124f6de3c7a262a8b4abca0554b478b1e2ff90"
    }
   }
  }
 },
 "nbformat": 4,
 "nbformat_minor": 2,
 "cells": [
  {
   "cell_type": "code",
   "execution_count": 3,
   "metadata": {},
   "outputs": [
    {
     "output_type": "stream",
     "name": "stdout",
     "text": [
      "[5, 2, -3, 6.7, -1.4, 4, 6, -7, 1, 9, 5, 12] 11\n[5, 2, -3, 6.7, -1.4, 4, 6, -7, 1, 5, 9, 12] 10\n[5, 2, -3, 6.7, -1.4, 4, -7, 6, 1, 5, 9, 12] 7\n[5, 2, -3, 6.7, -1.4, -7, 4, 6, 1, 5, 9, 12] 6\n[5, 2, -3, 6.7, -7, -1.4, 4, 6, 1, 5, 9, 12] 5\n[5, 2, -3, -7, 6.7, -1.4, 4, 6, 1, 5, 9, 12] 4\n[5, 2, -7, -3, 6.7, -1.4, 4, 6, 1, 5, 9, 12] 3\n[5, -7, 2, -3, 6.7, -1.4, 4, 6, 1, 5, 9, 12] 2\n[-7, 5, 2, -3, 6.7, -1.4, 4, 6, 1, 5, 9, 12] 1\n"
     ]
    }
   ],
   "source": [
    "A = [ 5, 2, -3, 6.7, -1.4, 4, 6, -7, 1, 9, 12, 5 ]\n",
    "n = len(A)\n",
    "for j in range(n):\n",
    "    for i in range(n-1,j,-1):\n",
    "    if A[i] < A[i-1]:\n",
    "        A[i],A[i-1] = A[i-1],A[i]\n",
    "        print(A,i)"
   ]
  }
 ]
}