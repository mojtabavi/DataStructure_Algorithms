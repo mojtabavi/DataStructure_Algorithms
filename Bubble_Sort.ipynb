{
 "metadata": {
  "language_info": {
   "codemirror_mode": {
    "name": "ipython",
    "version": 3
   },
   "file_extension": ".py",
   "mimetype": "text/x-python",
   "name": "python",
   "nbconvert_exporter": "python",
   "pygments_lexer": "ipython3",
   "version": "3.9.1-final"
  },
  "orig_nbformat": 2,
  "kernelspec": {
   "name": "python3",
   "display_name": "Python 3.9.1 64-bit",
   "metadata": {
    "interpreter": {
     "hash": "767d51c1340bd893661ea55ea3124f6de3c7a262a8b4abca0554b478b1e2ff90"
    }
   }
  }
 },
 "nbformat": 4,
 "nbformat_minor": 2,
 "cells": [
  {
   "cell_type": "code",
   "execution_count": 1,
   "metadata": {},
   "outputs": [
    {
     "output_type": "stream",
     "name": "stdout",
     "text": [
      "[-7, 5, 2, -3, 6.7, -1.4, 4, 6, 1, 5, 9, 12] 0\n[-7, -3, 5, 2, -1.4, 6.7, 1, 4, 6, 5, 9, 12] 1\n[-7, -3, -1.4, 5, 2, 1, 6.7, 4, 5, 6, 9, 12] 2\n[-7, -3, -1.4, 1, 5, 2, 4, 6.7, 5, 6, 9, 12] 3\n[-7, -3, -1.4, 1, 2, 5, 4, 5, 6.7, 6, 9, 12] 4\n[-7, -3, -1.4, 1, 2, 4, 5, 5, 6, 6.7, 9, 12] 5\n"
     ]
    }
   ],
   "source": [
    "A = [ 5, 12, 3, 4, 7, 1, 0, 6, 19, 8, 13]\n",
    "n = len(A)\n",
    "for i in range(n-1):\n",
    "    bubble_found = False\n",
    "    for j in range(n-1,i,-1):\n",
    "        if A[j] < A[j-1]:\n",
    "            A[j],A[j-1] = A[j-1],A[j]\n",
    "            bubble_found = True\n",
    "    if not bubble_found:\n",
    "        break\n",
    "    print(A,i)"
   ]
  }
 ]
}