{
 "cells": [
  {
   "cell_type": "code",
   "execution_count": 35,
   "metadata": {},
   "outputs": [],
   "source": []
  },
  {
   "cell_type": "code",
   "execution_count": 1,
   "metadata": {},
   "outputs": [
    {
     "name": "stdout",
     "output_type": "stream",
     "text": [
      "i:  0\n",
      "j:  1\n",
      "selection:  1\n",
      "j:  2\n",
      "selection:  2\n",
      "j:  3\n",
      "j:  4\n",
      "j:  5\n",
      "selection:  5\n",
      "j:  6\n",
      "j:  7\n",
      "[1, 3, 2, 10, 12, 4, 5, 6]\n",
      "i:  1\n",
      "j:  2\n",
      "selection:  2\n",
      "j:  3\n",
      "j:  4\n",
      "j:  5\n",
      "j:  6\n",
      "j:  7\n",
      "[1, 2, 3, 10, 12, 4, 5, 6]\n",
      "i:  2\n",
      "j:  3\n",
      "j:  4\n",
      "j:  5\n",
      "j:  6\n",
      "j:  7\n",
      "[1, 2, 3, 10, 12, 4, 5, 6]\n",
      "i:  3\n",
      "j:  4\n",
      "j:  5\n",
      "selection:  5\n",
      "j:  6\n",
      "j:  7\n",
      "[1, 2, 3, 4, 12, 10, 5, 6]\n",
      "i:  4\n",
      "j:  5\n",
      "selection:  5\n",
      "j:  6\n",
      "selection:  6\n",
      "j:  7\n",
      "[1, 2, 3, 4, 5, 10, 12, 6]\n",
      "i:  5\n",
      "j:  6\n",
      "j:  7\n",
      "selection:  7\n",
      "[1, 2, 3, 4, 5, 6, 12, 10]\n",
      "i:  6\n",
      "j:  7\n",
      "selection:  7\n",
      "[1, 2, 3, 4, 5, 6, 10, 12]\n",
      "i:  7\n",
      "[1, 2, 3, 4, 5, 6, 10, 12]\n"
     ]
    }
   ],
   "source": [
    "A = [4, 3, 2, 10, 12, 1, 5, 6]\n",
    "n = len(A)\n",
    "for i in range(n):\n",
    "    print(\"i: \",i)\n",
    "    selection = i\n",
    "    for j in range(i+1,n):\n",
    "        print(\"j: \",j)\n",
    "        if A[j] <= A[selection]:\n",
    "            selection = j\n",
    "            print(\"selection: \",selection)\n",
    "    A[i],A[selection] = A[selection],A[i]\n",
    "    print(A)\n"
   ]
  },
  {
   "cell_type": "code",
   "execution_count": null,
   "metadata": {},
   "outputs": [],
   "source": []
  },
  {
   "cell_type": "code",
   "execution_count": null,
   "metadata": {},
   "outputs": [],
   "source": []
  },
  {
   "cell_type": "code",
   "execution_count": null,
   "metadata": {},
   "outputs": [],
   "source": []
  },
  {
   "cell_type": "code",
   "execution_count": null,
   "metadata": {},
   "outputs": [],
   "source": []
  },
  {
   "cell_type": "code",
   "execution_count": null,
   "metadata": {},
   "outputs": [],
   "source": []
  },
  {
   "cell_type": "code",
   "execution_count": null,
   "metadata": {},
   "outputs": [],
   "source": []
  }
 ],
 "metadata": {
  "kernelspec": {
   "display_name": "Python 3",
   "language": "python",
   "name": "python3"
  },
  "language_info": {
   "codemirror_mode": {
    "name": "ipython",
    "version": 3
   },
   "file_extension": ".py",
   "mimetype": "text/x-python",
   "name": "python",
   "nbconvert_exporter": "python",
   "pygments_lexer": "ipython3",
   "version": "3.8.5"
  }
 },
 "nbformat": 4,
 "nbformat_minor": 4
}
