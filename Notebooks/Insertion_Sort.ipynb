{
 "cells": [
  {
   "cell_type": "code",
   "execution_count": 2,
   "metadata": {},
   "outputs": [
    {
     "name": "stdout",
     "output_type": "stream",
     "text": [
      "[2, 5, -3, 6.7, -1.4, 4, 6, -7, 1, 9, 12, 5]\n",
      "[-3, 2, 5, 6.7, -1.4, 4, 6, -7, 1, 9, 12, 5]\n",
      "[-3, 2, 5, 6.7, -1.4, 4, 6, -7, 1, 9, 12, 5]\n",
      "[-3, -1.4, 2, 5, 6.7, 4, 6, -7, 1, 9, 12, 5]\n",
      "[-3, -1.4, 2, 4, 5, 6.7, 6, -7, 1, 9, 12, 5]\n",
      "[-3, -1.4, 2, 4, 5, 6, 6.7, -7, 1, 9, 12, 5]\n",
      "[-7, -3, -1.4, 2, 4, 5, 6, 6.7, 1, 9, 12, 5]\n",
      "[-7, -3, -1.4, 1, 2, 4, 5, 6, 6.7, 9, 12, 5]\n",
      "[-7, -3, -1.4, 1, 2, 4, 5, 6, 6.7, 9, 12, 5]\n",
      "[-7, -3, -1.4, 1, 2, 4, 5, 6, 6.7, 9, 12, 5]\n",
      "[-7, -3, -1.4, 1, 2, 4, 5, 5, 6, 6.7, 9, 12]\n",
      "[-7, -3, -1.4, 1, 2, 4, 5, 5, 6, 6.7, 9, 12]\n"
     ]
    }
   ],
   "source": [
    "A = [ 5, 2, -3, 6.7, -1.4, 4, 6, -7, 1, 9, 12, 5 ]\n",
    "for k in range(1,len(A)):\n",
    "    item = A[k]\n",
    "    i = k\n",
    "    while i > 0 and A[ i - 1 ] > item:\n",
    "        A[i] = A[i-1]\n",
    "        i -= 1\n",
    "    A[i] = item\n",
    "    print(A)\n",
    "print(A)"
   ]
  }
 ],
 "metadata": {
  "kernelspec": {
   "display_name": "Python 3",
   "language": "python",
   "name": "python3"
  },
  "language_info": {
   "codemirror_mode": {
    "name": "ipython",
    "version": 3
   },
   "file_extension": ".py",
   "mimetype": "text/x-python",
   "name": "python",
   "nbconvert_exporter": "python",
   "pygments_lexer": "ipython3",
   "version": "3.8.5"
  }
 },
 "nbformat": 4,
 "nbformat_minor": 2
}
