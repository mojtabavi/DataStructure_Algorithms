{
 "metadata": {
  "language_info": {
   "codemirror_mode": {
    "name": "ipython",
    "version": 3
   },
   "file_extension": ".py",
   "mimetype": "text/x-python",
   "name": "python",
   "nbconvert_exporter": "python",
   "pygments_lexer": "ipython3",
   "version": "3.9.1-final"
  },
  "orig_nbformat": 2,
  "kernelspec": {
   "name": "python3",
   "display_name": "Python 3.9.1 64-bit",
   "metadata": {
    "interpreter": {
     "hash": "767d51c1340bd893661ea55ea3124f6de3c7a262a8b4abca0554b478b1e2ff90"
    }
   }
  }
 },
 "nbformat": 4,
 "nbformat_minor": 2,
 "cells": [
  {
   "cell_type": "code",
   "execution_count": 2,
   "metadata": {},
   "outputs": [],
   "source": [
    "def mergesort(A):\n",
    "    if len(A) < 2:\n",
    "        return A\n",
    "    mid = len(A) // 2\n",
    "    B = A[:mid]\n",
    "    C = A[mid:]\n",
    "    print(B,C)\n",
    "\n",
    "    B = mergesort(B)\n",
    "    C = mergesort(C)\n",
    "    i = j = 0\n",
    "    A = []\n",
    "    while i < len(B) and j < len(C):\n",
    "        if B[i] <= C[j]:\n",
    "            A += [B[i]]\n",
    "            i += 1\n",
    "        else:\n",
    "            A += [C[j]]\n",
    "            j += 1\n",
    "    A += B[i:] + C[j:]\n",
    "    print(A)\n",
    "    return A\n"
   ]
  },
  {
   "cell_type": "code",
   "execution_count": null,
   "metadata": {},
   "outputs": [],
   "source": [
    "A = [ 5, 2, -3, 6.7, -1.4, 4, 6, -7, 1, 9, 12, 5 ]\n",
    "mergesort(A)"
   ]
  }
 ]
}