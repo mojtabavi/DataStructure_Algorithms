{
 "metadata": {
  "language_info": {
   "codemirror_mode": {
    "name": "ipython",
    "version": 3
   },
   "file_extension": ".py",
   "mimetype": "text/x-python",
   "name": "python",
   "nbconvert_exporter": "python",
   "pygments_lexer": "ipython3",
   "version": "3.9.1-final"
  },
  "orig_nbformat": 2,
  "kernelspec": {
   "name": "python3",
   "display_name": "Python 3.9.1 64-bit",
   "metadata": {
    "interpreter": {
     "hash": "767d51c1340bd893661ea55ea3124f6de3c7a262a8b4abca0554b478b1e2ff90"
    }
   }
  }
 },
 "nbformat": 4,
 "nbformat_minor": 2,
 "cells": [
  {
   "cell_type": "code",
   "execution_count": 2,
   "metadata": {},
   "outputs": [
    {
     "output_type": "stream",
     "name": "stdout",
     "text": [
      "[2, 5, -3, 6.7, -1.4, 4, 6, -7, 1, 9, 12, 5]\n[-3, 2, 5, 6.7, -1.4, 4, 6, -7, 1, 9, 12, 5]\n[-3, 2, 5, 6.7, -1.4, 4, 6, -7, 1, 9, 12, 5]\n[-3, -1.4, 2, 5, 6.7, 4, 6, -7, 1, 9, 12, 5]\n[-3, -1.4, 2, 4, 5, 6.7, 6, -7, 1, 9, 12, 5]\n[-3, -1.4, 2, 4, 5, 6, 6.7, -7, 1, 9, 12, 5]\n[-7, -3, -1.4, 2, 4, 5, 6, 6.7, 1, 9, 12, 5]\n[-7, -3, -1.4, 1, 2, 4, 5, 6, 6.7, 9, 12, 5]\n[-7, -3, -1.4, 1, 2, 4, 5, 6, 6.7, 9, 12, 5]\n[-7, -3, -1.4, 1, 2, 4, 5, 6, 6.7, 9, 12, 5]\n[-7, -3, -1.4, 1, 2, 4, 5, 5, 6, 6.7, 9, 12]\n[-7, -3, -1.4, 1, 2, 4, 5, 5, 6, 6.7, 9, 12]\n"
     ]
    }
   ],
   "source": [
    "A = [ 5, 2, -3, 6.7, -1.4, 4, 6, -7, 1, 9, 12, 5 ]\n",
    "for k in range(1,len(A)):\n",
    "    item = A[k]\n",
    "    i = k\n",
    "    while i > 0 and A[ i - 1 ] > item:\n",
    "        A[i] = A[i-1]\n",
    "        i -= 1\n",
    "    A[i] = item\n",
    "    print(A)\n",
    "print(A)"
   ]
  }
 ]
}