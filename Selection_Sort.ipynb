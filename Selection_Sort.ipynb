{
 "metadata": {
  "language_info": {
   "codemirror_mode": {
    "name": "ipython",
    "version": 3
   },
   "file_extension": ".py",
   "mimetype": "text/x-python",
   "name": "python",
   "nbconvert_exporter": "python",
   "pygments_lexer": "ipython3",
   "version": "3.9.1-final"
  },
  "orig_nbformat": 2,
  "kernelspec": {
   "name": "python3",
   "display_name": "Python 3.9.1 64-bit",
   "metadata": {
    "interpreter": {
     "hash": "767d51c1340bd893661ea55ea3124f6de3c7a262a8b4abca0554b478b1e2ff90"
    }
   }
  }
 },
 "nbformat": 4,
 "nbformat_minor": 2,
 "cells": [
  {
   "cell_type": "code",
   "execution_count": 8,
   "metadata": {},
   "outputs": [
    {
     "output_type": "stream",
     "name": "stdout",
     "text": [
      "[-5, 0, 1, 10, 11, 25, 3]\n[-5, 0, 1, 10, 11, 25, 3]\n[-5, 0, 1, 10, 11, 25, 3]\n[-5, 0, 1, 3, 11, 25, 10]\n[-5, 0, 1, 3, 10, 25, 11]\n[-5, 0, 1, 3, 10, 11, 25]\n"
     ]
    }
   ],
   "source": [
    "A = [1, 0, -5, 10, 11, 25, 3]\n",
    "n = len(A)\n",
    "print(n)\n",
    "for i in range(n-1):\n",
    "    selection = i\n",
    "    for j in range(i + 1, n):\n",
    "        if( A[j] < A[selection] ):\n",
    "            selection = j\n",
    "    A[i], A[selection] = A[selection], A[i]\n",
    "    print(A) "
   ]
  }
 ]
}